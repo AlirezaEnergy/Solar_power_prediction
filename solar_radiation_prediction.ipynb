{
 "cells": [
  {
   "cell_type": "code",
   "execution_count": 1,
   "metadata": {
    "id": "sYhopp7wb9MU",
    "scrolled": true
   },
   "outputs": [],
   "source": [
    "import numpy as np\n",
    "import pandas as pd\n",
    "import matplotlib.pyplot as plt\n",
    "import warnings\n",
    "warnings.filterwarnings('ignore')\n",
    "import requests\n",
    "import json\n",
    "import time\n",
    "import plotly.express as px\n",
    "import plotly.graph_objects as go\n",
    "import copy\n",
    "from tqdm.notebook import tqdm\n",
    "import dash\n",
    "from dash import dcc, html\n",
    "from dash.dependencies import Input, Output\n",
    "from jupyter_dash import JupyterDash"
   ]
  },
  {
   "cell_type": "code",
   "execution_count": 2,
   "metadata": {
    "id": "Jha0R_YQcBkJ",
    "scrolled": true
   },
   "outputs": [],
   "source": [
    "def get_radiation_data(API_token, start_year, end_year, lat, long, capacity, loss, track, tilt, azimuth):\n",
    "\n",
    "    token = API_token\n",
    "    api_base = 'https://www.renewables.ninja/api/'\n",
    "\n",
    "    s = requests.session()\n",
    "    s.headers = {'Authorization': 'Token ' + token} # Send token header with each request\n",
    "    url = api_base + 'data/pv'\n",
    "\n",
    "    ###### PV data request\n",
    "    DATA = pd.DataFrame()\n",
    "    for year in tqdm(range(start_year, end_year+1)):\n",
    "\n",
    "        args = {\n",
    "            'lat': lat,\n",
    "            'lon': long,\n",
    "            'date_from': f'{year}-01-01',\n",
    "            'date_to': f'{year}-12-31',\n",
    "            'dataset': 'merra2',\n",
    "            'capacity': capacity,\n",
    "            'system_loss': loss,\n",
    "            'tracking': track,    # 0: fixed, 1: single axis (azimuth), 2: double axis (azimuth and tilt)\n",
    "            'tilt': tilt,         # should be equal to latitude value for good annual performance\n",
    "            'azim': azimuth,\n",
    "            'format': 'json',\n",
    "            'raw': True,\n",
    "            'header': False\n",
    "        }\n",
    "\n",
    "        r = s.get(url, params=args)\n",
    "\n",
    "        # Parse JSON to get a pandas.DataFrame of data and dict of metadata\n",
    "        parsed_response = json.loads(r.text)\n",
    "\n",
    "        data = pd.read_json(json.dumps(parsed_response), orient='index')\n",
    "        data[f'total_irradiance_{year}'] = data['irradiance_direct'] + data['irradiance_diffuse'] # kWh/m2\n",
    "        data[f'direct_{year}'] = data['irradiance_direct'] # kWh/m2\n",
    "        data[f'diffuse_{year}'] = data['irradiance_diffuse'] # kWh/m2\n",
    "        data[f'ele_{year}'] = data['electricity'] # kWh\n",
    "        data[f'temp_{year}'] = data['temperature'] # C\n",
    "        \n",
    "        data = data.drop(columns=['electricity','irradiance_direct','irradiance_diffuse','temperature'])\n",
    "\n",
    "        data = data.reset_index(drop=True)\n",
    "\n",
    "        DATA = pd.concat([DATA, data], axis=1)\n",
    "\n",
    "        time.sleep(3)\n",
    "\n",
    "    if len(DATA) > 8760:\n",
    "        DATA = DATA.iloc[:8760]\n",
    "    \n",
    "    DATA.index = pd.date_range(start=\"2023-01-01 00:00\", periods=8760, freq=\"H\") #2023 is just a sample year for df index\n",
    "    \n",
    "    return DATA"
   ]
  },
  {
   "cell_type": "code",
   "execution_count": 3,
   "metadata": {
    "scrolled": true
   },
   "outputs": [],
   "source": [
    "API_token = 'renewable ninja token here'\n",
    "start_year = 2000\n",
    "end_year = 2023\n",
    "lat = 35.4215\n",
    "long = 51.4881\n",
    "capacity = 1   # kW\n",
    "loss = 0       # [0,1]\n",
    "track = 0      # 0: fixed, 1: single axis (azimuth), 2: double axis (azimuth and tilt)\n",
    "tilt = 35      # degree (should be equal to latitude value for good annual performance)\n",
    "azimuth = 180  # south facing"
   ]
  },
  {
   "cell_type": "code",
   "execution_count": 4,
   "metadata": {
    "id": "8cd3DsF6dLrt",
    "scrolled": true
   },
   "outputs": [
    {
     "data": {
      "application/vnd.jupyter.widget-view+json": {
       "model_id": "4a02d6bba83c419ba7ccddc82d4f2e4f",
       "version_major": 2,
       "version_minor": 0
      },
      "text/plain": [
       "  0%|          | 0/24 [00:00<?, ?it/s]"
      ]
     },
     "metadata": {},
     "output_type": "display_data"
    }
   ],
   "source": [
    "# columns = [total_irradiance_year, direct_year, diffuse_year, ele_year, temp_year]\n",
    "data = get_radiation_data(API_token, start_year, end_year, lat, long, capacity, loss, track, tilt, azimuth)"
   ]
  },
  {
   "cell_type": "code",
   "execution_count": 4,
   "metadata": {
    "scrolled": true
   },
   "outputs": [],
   "source": [
    "#data.to_excel('solar_data.xlsx') # save the data in excel to prevent running the above code again to get the data\n",
    "data = pd.read_excel('solar_data.xlsx', header=0, index_col=0)"
   ]
  },
  {
   "cell_type": "code",
   "execution_count": 5,
   "metadata": {
    "scrolled": true
   },
   "outputs": [],
   "source": [
    "years = list(range(start_year, end_year +1))\n",
    "columns = ['total_irradiance', 'direct', 'diffuse', 'ele', 'temp']"
   ]
  },
  {
   "cell_type": "code",
   "execution_count": 6,
   "metadata": {
    "scrolled": true
   },
   "outputs": [],
   "source": [
    "for col in columns:\n",
    "    temp_mean = data.filter(like=col).mean(axis=1)\n",
    "    temp_std = data.filter(like=col).std(axis=1)\n",
    "    temp_min = data.filter(like=col).min(axis=1)\n",
    "    temp_max = data.filter(like=col).max(axis=1)\n",
    "    \n",
    "    data[col+'_mean'] = temp_mean\n",
    "    data[col+'_std'] = temp_std\n",
    "    data[col+'_min'] = temp_min\n",
    "    data[col+'_max'] = temp_max"
   ]
  },
  {
   "cell_type": "code",
   "execution_count": 8,
   "metadata": {
    "scrolled": false
   },
   "outputs": [
    {
     "data": {
      "text/html": [
       "\n",
       "        <iframe\n",
       "            width=\"100%\"\n",
       "            height=\"650\"\n",
       "            src=\"http://127.0.0.1:8051/\"\n",
       "            frameborder=\"0\"\n",
       "            allowfullscreen\n",
       "        ></iframe>\n",
       "        "
      ],
      "text/plain": [
       "<IPython.lib.display.IFrame at 0x14ee75b1ee0>"
      ]
     },
     "metadata": {},
     "output_type": "display_data"
    },
    {
     "name": "stdout",
     "output_type": "stream",
     "text": [
      "Dash app running on http://127.0.0.1:8051/\n"
     ]
    }
   ],
   "source": [
    "# Define month dropdown options and mapping.\n",
    "month_options = [{\"label\": m, \"value\": m} for m in \n",
    "                 [\"All\", \"January\", \"February\", \"March\", \"April\", \"May\", \"June\", \n",
    "                  \"July\", \"August\", \"September\", \"October\", \"November\", \"December\"]]\n",
    "month_to_num = {\n",
    "    \"January\": 1, \"February\": 2, \"March\": 3, \"April\": 4, \"May\": 5, \"June\": 6,\n",
    "    \"July\": 7, \"August\": 8, \"September\": 9, \"October\": 10, \"November\": 11, \"December\": 12\n",
    "}\n",
    "\n",
    "# Extend the year-dropdown options to include the aggregated options.\n",
    "year_options = [{\"label\": str(y), \"value\": y} for y in years]\n",
    "year_options.append({\"label\": \"Mean with 95% CI\", \"value\": \"mean\"})\n",
    "year_options.append({\"label\": \"Min/Max\", \"value\": \"minmax\"})\n",
    "\n",
    "# Initialize the JupyterDash app.\n",
    "app = JupyterDash(__name__)\n",
    "\n",
    "# Layout: Three dropdowns (Year, Feature, Month) arranged side by side.\n",
    "app.layout = html.Div([\n",
    "    html.Div([\n",
    "        html.Div([\n",
    "            html.Label(\"Year(s):\"),\n",
    "            dcc.Dropdown(\n",
    "                id=\"year-dropdown\",\n",
    "                options=year_options,\n",
    "                value=[2023],\n",
    "                multi=True,\n",
    "                clearable=False\n",
    "            )\n",
    "        ], style={\"flex\": \"1\", \"padding\": \"10px\"}),\n",
    "\n",
    "        html.Div([\n",
    "            html.Label(\"Feature:\"),\n",
    "            dcc.Dropdown(\n",
    "                id=\"feature-dropdown\",\n",
    "                options=[{\"label\": col, \"value\": col} for col in columns],\n",
    "                value=\"temp\",\n",
    "                clearable=False\n",
    "            )\n",
    "        ], style={\"flex\": \"1\", \"padding\": \"10px\"}),\n",
    "\n",
    "        html.Div([\n",
    "            html.Label(\"Month:\"),\n",
    "            dcc.Dropdown(\n",
    "                id=\"month-dropdown\",\n",
    "                options=month_options,\n",
    "                value=\"All\",\n",
    "                clearable=False\n",
    "            )\n",
    "        ], style={\"flex\": \"1\", \"padding\": \"10px\"}),\n",
    "\n",
    "        html.Div([\n",
    "            html.Label(\"Week (when month is not all):\"),\n",
    "            dcc.Dropdown(\n",
    "                id=\"week-dropdown\",\n",
    "                options=[{\"label\": \"All\", \"value\": \"all\"}] +  \n",
    "                        [{\"label\": f\"Week {i}\", \"value\": i} for i in range(1, 5)] +\n",
    "                        [{\"label\": \"Rest\", \"value\": \"rest\"}],\n",
    "                value=\"all\",\n",
    "                clearable=False\n",
    "            )\n",
    "        ], style={\"flex\": \"1\", \"padding\": \"10px\"}),\n",
    "    \n",
    "    ], style={\"display\": \"flex\", \"flexDirection\": \"row\", \"justifyContent\": \"center\"}),\n",
    "    \n",
    "    html.Div([\n",
    "        html.Label(\"Date Range (when month is all, just month and day are important):\"),\n",
    "        dcc.DatePickerRange(\n",
    "            id=\"date-picker-range\",\n",
    "            start_date=None,  # Default to None (no filter)\n",
    "            end_date=None,\n",
    "            display_format=\"YYYY-MM-DD\",  # User-friendly format\n",
    "            clearable=True\n",
    "        )\n",
    "    ], style={\"flex\": \"1\", \"padding\": \"10px\"}),\n",
    "\n",
    "    dcc.Graph(id=\"time-series-plot\")\n",
    "])\n",
    "\n",
    "# Callback: Update the plot based on selected years, feature, and month.\n",
    "@app.callback(\n",
    "    Output(\"time-series-plot\", \"figure\"),\n",
    "    [Input(\"year-dropdown\", \"value\"),\n",
    "     Input(\"feature-dropdown\", \"value\"),\n",
    "     Input(\"month-dropdown\", \"value\"),\n",
    "     Input(\"week-dropdown\", \"value\"),\n",
    "     Input(\"date-picker-range\", \"start_date\"),  # New input\n",
    "     Input(\"date-picker-range\", \"end_date\")]  # New input\n",
    ")\n",
    "def update_plot(selected_years, feature, selected_month, selected_week, start_date, end_date):\n",
    "    \n",
    "    # Ensure selected_years is a list.\n",
    "    if not isinstance(selected_years, list):\n",
    "        selected_years = [selected_years]\n",
    "    \n",
    "    # Check if an aggregated option is selected.\n",
    "    agg_mode = None\n",
    "    for val in selected_years:\n",
    "        if isinstance(val, str):\n",
    "            agg_mode = val\n",
    "            break\n",
    "\n",
    "    # Apply month filtering\n",
    "    if selected_month != \"All\":\n",
    "        month_num = month_to_num[selected_month]\n",
    "        if selected_week != \"all\":\n",
    "            if selected_week in range(1, 5):  # Weeks 1-4 (Days 1-28):\n",
    "                mask =(data.index.month==month_num)&(data.index.day>(selected_week-1)*7)&(data.index.day<=selected_week*7)\n",
    "            elif selected_week == \"rest\":  # Rest of the month (Days > 28):\n",
    "                mask = (data.index.month == month_num)&(data.index.day>28)\n",
    "        else:\n",
    "            mask = (data.index.month == month_num)  # Filter rows for the selected month\n",
    "    else:\n",
    "        if start_date and end_date:\n",
    "            start_date = pd.to_datetime(start_date)  # Convert to datetime\n",
    "            end_date = pd.to_datetime(end_date)\n",
    "\n",
    "            # Extract only month and day from the index\n",
    "            month_day = data.index.strftime(\"%m-%d\")  # Format index as \"MM-DD\"\n",
    "\n",
    "            # Extract only month and day from selected start/end dates\n",
    "            start_md = start_date.strftime(\"%m-%d\")\n",
    "            end_md = end_date.strftime(\"%m-%d\")\n",
    "\n",
    "            # Apply mask based on month and day, ignoring the year\n",
    "            mask = (month_day >= start_md) & (month_day <= end_md)\n",
    "        else:\n",
    "            mask = slice(None)  # If \"All\", use the entire data\n",
    "    \n",
    "    x_vals = data.index[mask]  # Final x-values after applying both filters\n",
    "\n",
    "    fig = go.Figure()\n",
    "\n",
    "    if \"mean\" in selected_years or \"minmax\" in selected_years:\n",
    "        agg_mode = \"mean\" if \"mean\" in selected_years else \"minmax\"\n",
    "        selected_years = [y for y in selected_years if isinstance(y, int)]  # Keep only numeric years\n",
    "\n",
    "        \n",
    "        if agg_mode == \"mean\":\n",
    "            \n",
    "            mean_series = data[f\"{feature}_mean\"][mask]\n",
    "            std_series = data[f\"{feature}_std\"][mask]\n",
    "            \n",
    "            # Set std to zero when mean is zero\n",
    "            # if mean_series != 0 is flase (so mean =0), then set std to 0\n",
    "            std_series = std_series.where(mean_series != 0, 0)\n",
    "            \n",
    "            # Compute the upper and lower bounds\n",
    "            upper_bound = mean_series + 1.96 * std_series\n",
    "            lower_bound = mean_series - 1.96 * std_series\n",
    "            if feature in ['total_irradiance', 'direct', 'diffuse']:\n",
    "                lower_bound = lower_bound.clip(lower=0)\n",
    "\n",
    "            # Confidence interval fill\n",
    "            fig.add_trace(go.Scatter(\n",
    "                x=list(x_vals),\n",
    "                y=list(upper_bound),\n",
    "                mode='lines',\n",
    "                line=dict(width=0),\n",
    "                showlegend=False,\n",
    "                hoverinfo='skip'\n",
    "            ))\n",
    "            fig.add_trace(go.Scatter(\n",
    "                x=list(x_vals),\n",
    "                y=list(lower_bound),\n",
    "                mode='lines',\n",
    "                fill='tonexty',\n",
    "                fillcolor='rgba(0,100,80,0.5)',\n",
    "                line=dict(width=0),\n",
    "                name='95% CI',\n",
    "                hoverinfo='skip'\n",
    "            ))\n",
    "            # Mean line\n",
    "            fig.add_trace(go.Scatter(\n",
    "                x=list(x_vals),\n",
    "                y=list(mean_series),\n",
    "                mode='lines',\n",
    "                line=dict(color='rgb(0,100,80)'),\n",
    "                name=\"Mean\"\n",
    "            ))\n",
    "\n",
    "        elif agg_mode == \"minmax\":\n",
    "            min_series = data[f\"{feature}_min\"][mask]\n",
    "            max_series = data[f\"{feature}_max\"][mask]\n",
    "\n",
    "            fig.add_trace(go.Scatter(\n",
    "                x=list(x_vals),\n",
    "                y=list(min_series),\n",
    "                mode='lines',\n",
    "                name=\"Min\",\n",
    "                line=dict(color='lightblue')\n",
    "            ))\n",
    "            fig.add_trace(go.Scatter(\n",
    "                x=list(x_vals),\n",
    "                y=list(max_series),\n",
    "                mode='lines',\n",
    "                name=\"Max\",\n",
    "                line=dict(color='lightblue'),\n",
    "                fill='tonexty'\n",
    "            ))\n",
    "\n",
    "    # Plot each selected numeric year\n",
    "    for yr in selected_years:\n",
    "        col_name = f\"{feature}_{yr}\"\n",
    "        series = data[col_name][mask]\n",
    "        trace_name = f\"{yr} - {selected_month}\" if selected_month != \"All\" else str(yr)\n",
    "\n",
    "        fig.add_trace(go.Scatter(\n",
    "            x=list(x_vals),\n",
    "            y=list(series),\n",
    "            mode='lines',\n",
    "            name=trace_name\n",
    "        ))\n",
    "\n",
    "    # Update title\n",
    "    title = f\"Yearly Data for {', '.join(map(str, selected_years))} - {feature.capitalize()}\"\n",
    "    if \"mean\" in selected_years:\n",
    "        title += \" + Mean with 95% CI\"\n",
    "    if \"minmax\" in selected_years:\n",
    "        title += \" + Min/Max\"\n",
    "\n",
    "    fig.update_layout(\n",
    "        title=title,\n",
    "        xaxis_title=\"Time\",\n",
    "        yaxis_title=feature.capitalize(),\n",
    "        template=\"plotly_dark\"\n",
    "    )\n",
    "    return fig\n",
    "\n",
    "# Run the app inside Jupyter Notebook.\n",
    "app.run_server(debug=True, use_reloader=False, port=8050)"
   ]
  },
  {
   "cell_type": "code",
   "execution_count": null,
   "metadata": {
    "scrolled": true
   },
   "outputs": [],
   "source": []
  },
  {
   "cell_type": "code",
   "execution_count": null,
   "metadata": {
    "scrolled": true
   },
   "outputs": [],
   "source": []
  },
  {
   "cell_type": "code",
   "execution_count": null,
   "metadata": {
    "scrolled": true
   },
   "outputs": [],
   "source": []
  },
  {
   "cell_type": "code",
   "execution_count": null,
   "metadata": {
    "scrolled": true
   },
   "outputs": [],
   "source": []
  },
  {
   "cell_type": "code",
   "execution_count": null,
   "metadata": {
    "scrolled": true
   },
   "outputs": [],
   "source": []
  },
  {
   "cell_type": "code",
   "execution_count": null,
   "metadata": {
    "scrolled": true
   },
   "outputs": [],
   "source": []
  },
  {
   "cell_type": "code",
   "execution_count": null,
   "metadata": {
    "scrolled": true
   },
   "outputs": [],
   "source": []
  },
  {
   "cell_type": "code",
   "execution_count": null,
   "metadata": {
    "scrolled": true
   },
   "outputs": [],
   "source": []
  },
  {
   "cell_type": "code",
   "execution_count": null,
   "metadata": {
    "scrolled": true
   },
   "outputs": [],
   "source": []
  },
  {
   "cell_type": "code",
   "execution_count": null,
   "metadata": {
    "scrolled": true
   },
   "outputs": [],
   "source": []
  },
  {
   "cell_type": "code",
   "execution_count": null,
   "metadata": {
    "scrolled": true
   },
   "outputs": [],
   "source": []
  },
  {
   "cell_type": "code",
   "execution_count": null,
   "metadata": {
    "id": "yJtevp31nJa2",
    "scrolled": true
   },
   "outputs": [],
   "source": [
    "temp_mean = data.mean(axis=1)\n",
    "temp_max = data.max(axis=1)\n",
    "temp_min = data.min(axis=1)\n",
    "temp_std = data.std(axis=1)\n",
    "\n",
    "data['mean'] = temp_mean\n",
    "data['max'] = temp_max\n",
    "data['min'] = temp_min\n",
    "data['std'] = temp_std"
   ]
  },
  {
   "cell_type": "code",
   "execution_count": null,
   "metadata": {
    "scrolled": true
   },
   "outputs": [],
   "source": []
  },
  {
   "cell_type": "code",
   "execution_count": null,
   "metadata": {
    "colab": {
     "base_uri": "https://localhost:8080/",
     "height": 542
    },
    "id": "6U3T8R3Zq5bS",
    "outputId": "8f7f7a0e-e0c9-4e40-dee7-3229c58e71c4",
    "scrolled": true
   },
   "outputs": [],
   "source": [
    "px.line(data, y='mean', title=\"Mean Solar Radiation (Wh/m2)\")"
   ]
  },
  {
   "cell_type": "code",
   "execution_count": null,
   "metadata": {
    "colab": {
     "base_uri": "https://localhost:8080/",
     "height": 542
    },
    "id": "vkf5k2nQhFrO",
    "outputId": "e5584b39-6a36-4fc1-d59e-faeea53b5baf",
    "scrolled": true
   },
   "outputs": [],
   "source": [
    "fig = go.Figure()\n",
    "fig.add_trace(go.Scatter(y=data['max'], mode='lines', name='Max'))\n",
    "fig.add_trace(go.Scatter(y=data['min'], mode='lines', name='Min'))\n",
    "\n",
    "# plot without range selector\n",
    "# fig.update_layout(title=\"Max & Min Plot\", xaxis_title=\"Index\", yaxis_title=\"Value\")\n",
    "\n",
    "# plot with range selector\n",
    "fig.update_layout(\n",
    "    title=\"Hourly Min & MAX (Wh/m2)\",\n",
    "    xaxis_title=\"Index\",\n",
    "    yaxis_title=\"Value\",\n",
    "    xaxis=dict(\n",
    "        rangeslider=dict(visible=True),  # Show the range slider below the plot\n",
    "        type=\"linear\",  # Type of x-axis\n",
    "        tickmode=\"array\",  # Set x-axis ticks\n",
    "        tickvals=list(range(0, len(data), 168)),  # Set weekly x-axis ticks at intervals\n",
    "        ticktext=[f'{i}' for i in range(0, len(data), 168)]  # Display x-axis ticks as 0, 168, 336...\n",
    "    )\n",
    ")\n",
    "\n",
    "fig.show()"
   ]
  },
  {
   "cell_type": "code",
   "execution_count": null,
   "metadata": {
    "colab": {
     "base_uri": "https://localhost:8080/",
     "height": 542
    },
    "id": "gfECm9kXhFtk",
    "outputId": "9dd5ea4e-4502-4eef-be90-47da52666424",
    "scrolled": true
   },
   "outputs": [],
   "source": [
    "data['upper'] = data['mean'] + 2 * data['std']\n",
    "data['lower'] = data['mean'] - 2 * data['std']\n",
    "data['lower'] = data['lower'].clip(lower=0)\n",
    "\n",
    "fig = go.Figure()\n",
    "fig.add_trace(go.Scatter(y=data['mean'], mode='lines', name='Mean', line=dict(color='blue')))\n",
    "fig.add_trace(go.Scatter(y=data['upper'], mode='lines', name='Upper Bound (+2 std)', line=dict(color='red', width=0.5)))\n",
    "fig.add_trace(go.Scatter(y=data['lower'], mode='lines', name='Lower Bound (-2 std)', line=dict(color='red', width=0.5)))\n",
    "\n",
    "# Add shaded area between upper and lower bound (±2 std range)\n",
    "fig.add_trace(go.Scatter(\n",
    "    x=data.index, y=data['upper'], fill='tonexty', fillcolor='rgba(255, 0, 0, 0.2)',\n",
    "    line=dict(color='rgba(255,255,255,0)'), name='2 Std Range', showlegend=False))\n",
    "\n",
    "# plot without range selector\n",
    "# fig.update_layout(title=\"Mean with ±2 Std Deviation Range\", xaxis_title=\"Index\", yaxis_title=\"Value\")\n",
    "# plot with range selector\n",
    "fig.update_layout(\n",
    "    title=\"Hourly Mean with ±2 Std Deviation Range (Wh/m2)\",\n",
    "    xaxis_title=\"Index\",\n",
    "    yaxis_title=\"Value\",\n",
    "    xaxis=dict(\n",
    "        rangeslider=dict(visible=True),  # Show the range slider below the plot\n",
    "        type=\"linear\",  # Type of x-axis\n",
    "        tickmode=\"array\",  # Set x-axis ticks\n",
    "        tickvals=list(range(0, len(data), 168)),  # Set x-axis ticks at intervals\n",
    "        ticktext=[f'{i}' for i in range(0, len(data), 168)]  # Display x-axis ticks as 0, 24, 48...\n",
    "    )\n",
    ")\n",
    "\n",
    "fig.show()"
   ]
  },
  {
   "cell_type": "code",
   "execution_count": null,
   "metadata": {
    "colab": {
     "base_uri": "https://localhost:8080/",
     "height": 427
    },
    "id": "4ya_c3txumo6",
    "outputId": "d3baace3-cc77-4200-9e16-b8afc3821ff5",
    "scrolled": true
   },
   "outputs": [],
   "source": [
    "plt.figure(figsize=(8, 4))\n",
    "plt.hist(data[data['mean']>0]['mean'], edgecolor='black', color='cyan', density=False, bins = 'fd');\n",
    "plt.ylabel('Frequency')\n",
    "plt.xlabel('Mean Solar Radiation (Wh/m2)')\n",
    "plt.title('Distribution of Mean hourly Solar Radiation')"
   ]
  },
  {
   "cell_type": "code",
   "execution_count": null,
   "metadata": {
    "colab": {
     "base_uri": "https://localhost:8080/",
     "height": 564
    },
    "id": "OaeBzioryK_4",
    "outputId": "6e43f1b2-0124-484b-c60e-aeff05004677",
    "scrolled": true
   },
   "outputs": [],
   "source": [
    "plt.figure(figsize=(8, 4))\n",
    "plt.bar(data.sum(axis=0).iloc[:-6].index, data.sum(axis=0).iloc[:-6].values/1000, edgecolor='black', color='orange') # /1000 to chnage Wh to kWh\n",
    "plt.ylabel('kWh/m2')\n",
    "plt.xlabel('Year')\n",
    "plt.xticks(rotation=90)\n",
    "plt.title('Total Solar Radiation per Year')"
   ]
  },
  {
   "cell_type": "code",
   "execution_count": null,
   "metadata": {
    "id": "CCKdufniz2zC",
    "scrolled": true
   },
   "outputs": [],
   "source": [
    "data = data.iloc[:, :-6] # remove mean, std, max, min, upper(mean+2std), lower(mean-2std)\n",
    "data['mean_prev_year'] = data.iloc[:,:-1].mean(axis=1) # claculate mean radiation in previous years to be used as an input feature\n",
    "data = data.iloc[:,-2:] # remove previous years data"
   ]
  },
  {
   "cell_type": "code",
   "execution_count": null,
   "metadata": {
    "id": "irz9evkh0RFp",
    "scrolled": true
   },
   "outputs": [],
   "source": [
    "# add lagged features to the dataset\n",
    "for lag in range(1, 4):\n",
    "    data[f'total_irradiance_{end_year}_lag_{lag}'] = data[f'total_irradiance_{end_year}'].shift(lag)\n",
    "data.dropna(inplace=True) # drop rows with NaN values created as a result of lag features"
   ]
  },
  {
   "cell_type": "code",
   "execution_count": null,
   "metadata": {
    "id": "GlCkDO3g00ib",
    "scrolled": true
   },
   "outputs": [],
   "source": [
    "# move the target variable (total_irrandiance_{end_year}) to the end of the dataframe\n",
    "target = data.pop(f'total_irradiance_{end_year}')\n",
    "data[f'total_irradiance_{end_year}'] = target"
   ]
  },
  {
   "cell_type": "code",
   "execution_count": null,
   "metadata": {
    "id": "0upjF-Ab29l3",
    "scrolled": true
   },
   "outputs": [],
   "source": [
    "train_percentage = 0.8 # percentage of data in the train set\n",
    "cutpoint = int(train_percentage*len(data)) # find the cutpoint to separate train and test data\n",
    "\n",
    "train = data[:cutpoint]\n",
    "test = data[cutpoint:]\n",
    "\n",
    "y_train, X_train = train.iloc[:,-1].values, train.iloc[:,:-1].values\n",
    "y_test, X_test = test.iloc[:,-1].values, test.iloc[:,:-1].values"
   ]
  },
  {
   "cell_type": "code",
   "execution_count": null,
   "metadata": {
    "id": "kZwoESh135UB",
    "scrolled": true
   },
   "outputs": [],
   "source": [
    "MMS = MinMaxScaler()\n",
    "X_train = MMS.fit_transform(X_train)\n",
    "X_test = MMS.transform(X_test)"
   ]
  },
  {
   "cell_type": "code",
   "execution_count": null,
   "metadata": {
    "id": "AH_jukA14HE6",
    "scrolled": true
   },
   "outputs": [],
   "source": [
    "model = MLPRegressor((80,80,), solver='lbfgs', random_state=1)"
   ]
  },
  {
   "cell_type": "code",
   "execution_count": null,
   "metadata": {
    "id": "K_xLlaiC4Ktb",
    "scrolled": true
   },
   "outputs": [],
   "source": [
    "model.fit(X_train, y_train);"
   ]
  },
  {
   "cell_type": "code",
   "execution_count": null,
   "metadata": {
    "colab": {
     "base_uri": "https://localhost:8080/"
    },
    "id": "dO0IH20B4QXX",
    "outputId": "1c186478-8b71-4109-b168-f19f3c76491e",
    "scrolled": true
   },
   "outputs": [],
   "source": [
    "y_train_pred = model.predict(X_train)\n",
    "y_test_pred = model.predict(X_test)\n",
    "\n",
    "# integrating domain knowledge to prevent having negative values right at the\n",
    "# start of the night\n",
    "y_train_pred = np.where(X_train[:,0] == 0, 0, y_train_pred)\n",
    "y_test_pred = np.where(X_test[:,0] == 0, 0, y_test_pred)\n",
    "\n",
    "rmse_train = RMSE(y_train, y_train_pred)\n",
    "rmse_test = RMSE(y_test, y_test_pred)\n",
    "\n",
    "print('RMSE on train data: ', rmse_train)\n",
    "print('RMSE on test data: ', rmse_test)"
   ]
  },
  {
   "cell_type": "code",
   "execution_count": null,
   "metadata": {
    "colab": {
     "base_uri": "https://localhost:8080/",
     "height": 542
    },
    "id": "aTw7NH5D4ZB6",
    "outputId": "cd44fde2-3a49-4b24-9e70-fc9d5d7951d8",
    "scrolled": true
   },
   "outputs": [],
   "source": [
    "fig = go.Figure()\n",
    "fig.add_trace(go.Scatter(y=y_test, mode='lines', name='Actual'))\n",
    "fig.add_trace(go.Scatter(y=y_test_pred, mode='lines', name='Predicted'))\n",
    "\n",
    "# plot with range selector\n",
    "fig.update_layout(\n",
    "    title=\"Test performance\",\n",
    "    xaxis_title=\"Index\",\n",
    "    yaxis_title=\"Value\",\n",
    "    xaxis=dict(\n",
    "        rangeslider=dict(visible=True),  # Show the range slider below the plot\n",
    "        type=\"linear\",  # Type of x-axis\n",
    "        tickmode=\"array\",  # Set x-axis ticks\n",
    "        tickvals=list(range(0, len(y_test), 24)),  # Set weekly x-axis ticks at intervals\n",
    "        ticktext=[f'{i}' for i in range(0, len(y_test), 24)]  # Display x-axis ticks as 0, 168, 336...\n",
    "    )\n",
    ")\n",
    "\n",
    "fig.show()"
   ]
  },
  {
   "cell_type": "code",
   "execution_count": null,
   "metadata": {
    "colab": {
     "base_uri": "https://localhost:8080/",
     "height": 562
    },
    "id": "3zRi_3aZ5YxG",
    "outputId": "88896fcf-98f5-419c-9bda-8cc2ed3caf9f",
    "scrolled": true
   },
   "outputs": [],
   "source": [
    "plt.figure(figsize=(10,4), dpi=300)\n",
    "plt.scatter(y_test, y_test_pred, edgecolor='black', color='yellow')\n",
    "plt.xlabel('Actual')\n",
    "plt.ylabel('Predicted')\n",
    "plt.title('Test')"
   ]
  },
  {
   "cell_type": "code",
   "execution_count": null,
   "metadata": {
    "colab": {
     "base_uri": "https://localhost:8080/",
     "height": 551
    },
    "id": "bl01rWaz5sci",
    "outputId": "d3c88e09-345d-42a1-c991-d473bc6e2a7d",
    "scrolled": true
   },
   "outputs": [],
   "source": [
    "plt.figure(figsize=(10,4), dpi=300)\n",
    "plt.scatter(y_train, y_train_pred, edgecolor='black', color='yellow')\n",
    "plt.xlabel('Actual')\n",
    "plt.ylabel('Predicted')\n",
    "plt.title('Train')"
   ]
  },
  {
   "cell_type": "code",
   "execution_count": null,
   "metadata": {
    "id": "v23p5NF6RTVk",
    "scrolled": true
   },
   "outputs": [],
   "source": [
    "# series multistep prediction\n",
    "# the model uses its own predictions to make new predictions\n",
    "\n",
    "test_copy = copy.deepcopy(test)\n",
    "\n",
    "update_every = 6 # every 6 hours use the real data istead of models predictions to make new predictions\n",
    "predictions = []\n",
    "for i in range(len(test_copy)):\n",
    "\n",
    "    if test_copy.iloc[i,0] == 0: # column 0 is the mean value, if its zero it means that it is night\n",
    "        prediction = 0\n",
    "    else:\n",
    "        xTest = MMS.transform(test_copy.iloc[i,:-1].values.reshape(1, -1)) # omit the last column (target) and transform\n",
    "        prediction = model.predict(xTest)[0]\n",
    "\n",
    "    predictions.append(prediction)\n",
    "\n",
    "    if i != len(test_copy) -1:\n",
    "        if i % update_every != 0:\n",
    "            test_copy.iloc[i+1,1] = prediction           # column 1 is the first lag which takes the predicted value of the previous time step\n",
    "            test_copy.iloc[i+1,2] = test_copy.iloc[i,1]  # column 2 is the second lag which takes the value of first lag of the previous time step\n",
    "            test_copy.iloc[i+1,3] = test_copy.iloc[i,2]  # column 3 is the third lag which takes the value of second lag of the previous time step"
   ]
  },
  {
   "cell_type": "code",
   "execution_count": null,
   "metadata": {
    "colab": {
     "base_uri": "https://localhost:8080/"
    },
    "id": "aLsvC9nbdGJf",
    "outputId": "ebe51524-6257-43f8-8c1d-a2e50c3fbef3",
    "scrolled": true
   },
   "outputs": [],
   "source": [
    "rmse_test_multistep = RMSE(y_test, predictions)\n",
    "print('RMSE on test data (multistep): ', rmse_test_multistep)\n",
    "print(f'CVRMSE = {rmse_test_multistep/y_test[np.where(y_test>0)].mean()}')"
   ]
  },
  {
   "cell_type": "code",
   "execution_count": null,
   "metadata": {
    "colab": {
     "base_uri": "https://localhost:8080/",
     "height": 542
    },
    "id": "qGRvnAouRoGK",
    "outputId": "702ce7a5-d868-43b4-de13-22261d2296f8",
    "scrolled": true
   },
   "outputs": [],
   "source": [
    "fig = go.Figure()\n",
    "fig.add_trace(go.Scatter(y=y_test, mode='lines', name='Actual'))\n",
    "fig.add_trace(go.Scatter(y=predictions, mode='lines', name='6 hours predictions'))\n",
    "\n",
    "# plot with range selector\n",
    "fig.update_layout(\n",
    "    title=\"Test performance\",\n",
    "    xaxis_title=\"Index\",\n",
    "    yaxis_title=\"Value\",\n",
    "    xaxis=dict(\n",
    "        rangeslider=dict(visible=True),  # Show the range slider below the plot\n",
    "        type=\"linear\",  # Type of x-axis\n",
    "        tickmode=\"array\",  # Set x-axis ticks\n",
    "        tickvals=list(range(0, len(y_test), 24)),  # Set weekly x-axis ticks at intervals\n",
    "        ticktext=[f'{i}' for i in range(0, len(y_test), 24)]  # Display x-axis ticks as 0, 168, 336...\n",
    "    )\n",
    ")\n",
    "\n",
    "fig.show()"
   ]
  },
  {
   "cell_type": "code",
   "execution_count": null,
   "metadata": {
    "id": "Sh65CSPUfBe6",
    "scrolled": true
   },
   "outputs": [],
   "source": [
    "# parallel multi step\n",
    "data_copy = copy.deepcopy(data)\n",
    "# creating the datasets\n",
    "for lag in range(-1,-6,-1):\n",
    "    data_copy[f'total_irradiance_2023_next_{-lag}'] = data_copy['total_irradiance_2023'].shift(lag)\n",
    "    data_copy[f'mean_prev_year_next_{-lag}'] = data_copy['mean_prev_year'].shift(lag)\n",
    "data_copy.dropna(inplace=True)"
   ]
  },
  {
   "cell_type": "code",
   "execution_count": null,
   "metadata": {
    "id": "gO7XqMaBg2ZN",
    "scrolled": true
   },
   "outputs": [],
   "source": [
    "train_percentage = 0.8\n",
    "cutpoint = int(train_percentage*len(data_copy))\n",
    "\n",
    "#################\n",
    "\n",
    "data_now = data_copy[['mean_prev_year','total_irradiance_2023_lag_1','total_irradiance_2023_lag_2',\n",
    "                      'total_irradiance_2023_lag_3','total_irradiance_2023']]\n",
    "train = data_now[:cutpoint]\n",
    "test = data_now[cutpoint:]\n",
    "\n",
    "y_train_now, X_train_now = train.iloc[:,-1].values, train.iloc[:,:-1].values\n",
    "y_test_now, X_test_now = test.iloc[:,-1].values, test.iloc[:,:-1].values\n",
    "\n",
    "MMS_now = MinMaxScaler()\n",
    "X_train_now = MMS_now.fit_transform(X_train_now)\n",
    "X_test_now = MMS_now.transform(X_test_now)\n",
    "\n",
    "#################\n",
    "\n",
    "data_next_1 = data_copy[['mean_prev_year_next_1','total_irradiance_2023_lag_1','total_irradiance_2023_lag_2',\n",
    "                         'total_irradiance_2023_lag_3','total_irradiance_2023_next_1']]\n",
    "train = data_next_1[:cutpoint]\n",
    "test = data_next_1[cutpoint:]\n",
    "\n",
    "y_train_next_1, X_train_next_1 = train.iloc[:,-1].values, train.iloc[:,:-1].values\n",
    "y_test_next_1, X_test_next_1 = test.iloc[:,-1].values, test.iloc[:,:-1].values\n",
    "\n",
    "MMS_next_1 = MinMaxScaler()\n",
    "X_train_next_1 = MMS_next_1.fit_transform(X_train_next_1)\n",
    "X_test_next_1 = MMS_next_1.transform(X_test_next_1)\n",
    "\n",
    "#################\n",
    "\n",
    "data_next_2 = data_copy[['mean_prev_year_next_2','total_irradiance_2023_lag_1','total_irradiance_2023_lag_2',\n",
    "                         'total_irradiance_2023_lag_3','total_irradiance_2023_next_2']]\n",
    "train = data_next_2[:cutpoint]\n",
    "test = data_next_2[cutpoint:]\n",
    "\n",
    "y_train_next_2, X_train_next_2 = train.iloc[:,-1].values, train.iloc[:,:-1].values\n",
    "y_test_next_2, X_test_next_2 = test.iloc[:,-1].values, test.iloc[:,:-1].values\n",
    "\n",
    "MMS_next_2 = MinMaxScaler()\n",
    "X_train_next_2 = MMS_next_2.fit_transform(X_train_next_2)\n",
    "X_test_next_2 = MMS_next_2.transform(X_test_next_2)\n",
    "\n",
    "#################\n",
    "data_next_3 = data_copy[['mean_prev_year_next_3','total_irradiance_2023_lag_1','total_irradiance_2023_lag_2',\n",
    "                         'total_irradiance_2023_lag_3','total_irradiance_2023_next_3']]\n",
    "train = data_next_3[:cutpoint]\n",
    "test = data_next_3[cutpoint:]\n",
    "\n",
    "y_train_next_3, X_train_next_3 = train.iloc[:,-1].values, train.iloc[:,:-1].values\n",
    "y_test_next_3, X_test_next_3 = test.iloc[:,-1].values, test.iloc[:,:-1].values\n",
    "\n",
    "MMS_next_3 = MinMaxScaler()\n",
    "X_train_next_3 = MMS_next_3.fit_transform(X_train_next_3)\n",
    "X_test_next_3 = MMS_next_3.transform(X_test_next_3)\n",
    "\n",
    "#################\n",
    "data_next_4 = data_copy[['mean_prev_year_next_4','total_irradiance_2023_lag_1','total_irradiance_2023_lag_2',\n",
    "                         'total_irradiance_2023_lag_3','total_irradiance_2023_next_4']]\n",
    "train = data_next_4[:cutpoint]\n",
    "test = data_next_4[cutpoint:]\n",
    "\n",
    "y_train_next_4, X_train_next_4 = train.iloc[:,-1].values, train.iloc[:,:-1].values\n",
    "y_test_next_4, X_test_next_4 = test.iloc[:,-1].values, test.iloc[:,:-1].values\n",
    "\n",
    "MMS_next_4 = MinMaxScaler()\n",
    "X_train_next_4 = MMS_next_4.fit_transform(X_train_next_4)\n",
    "X_test_next_4 = MMS_next_4.transform(X_test_next_4)\n",
    "\n",
    "#################\n",
    "data_next_5 = data_copy[['mean_prev_year_next_5','total_irradiance_2023_lag_1','total_irradiance_2023_lag_2',\n",
    "                         'total_irradiance_2023_lag_3','total_irradiance_2023_next_5']]\n",
    "train = data_next_5[:cutpoint]\n",
    "test = data_next_5[cutpoint:]\n",
    "\n",
    "y_train_next_5, X_train_next_5 = train.iloc[:,-1].values, train.iloc[:,:-1].values\n",
    "y_test_next_5, X_test_next_5 = test.iloc[:,-1].values, test.iloc[:,:-1].values\n",
    "\n",
    "MMS_next_5 = MinMaxScaler()\n",
    "X_train_next_5 = MMS_next_5.fit_transform(X_train_next_5)\n",
    "X_test_next_5 = MMS_next_5.transform(X_test_next_5)"
   ]
  },
  {
   "cell_type": "code",
   "execution_count": null,
   "metadata": {
    "id": "8Sbi0Lezpnn7",
    "scrolled": true
   },
   "outputs": [],
   "source": [
    "model_now = MLPRegressor((80,80,), solver='lbfgs', random_state=1)\n",
    "model_now.fit(X_train_now, y_train_now);\n",
    "\n",
    "model_next_1 = MLPRegressor((80,80,), solver='lbfgs', random_state=1)\n",
    "model_next_1.fit(X_train_next_1, y_train_next_1);\n",
    "\n",
    "model_next_2 = MLPRegressor((80,80,), solver='lbfgs', random_state=1)\n",
    "model_next_2.fit(X_train_next_2, y_train_next_2);\n",
    "\n",
    "model_next_3 = MLPRegressor((80,80,), solver='lbfgs', random_state=1)\n",
    "model_next_3.fit(X_train_next_3, y_train_next_3);\n",
    "\n",
    "model_next_4 = MLPRegressor((80,80,), solver='lbfgs', random_state=1)\n",
    "model_next_4.fit(X_train_next_4, y_train_next_4);\n",
    "\n",
    "model_next_5 = MLPRegressor((80,80,), solver='lbfgs', random_state=1)\n",
    "model_next_5.fit(X_train_next_5, y_train_next_5);"
   ]
  },
  {
   "cell_type": "code",
   "execution_count": null,
   "metadata": {
    "colab": {
     "base_uri": "https://localhost:8080/"
    },
    "id": "sXYb6J6IqM05",
    "outputId": "9d68d785-1870-4993-b778-8e34ee0dc847",
    "scrolled": true
   },
   "outputs": [],
   "source": [
    "y_test_pred_now = model_now.predict(X_test_now)\n",
    "y_test_pred_now = np.where(X_test_now[:,0] == 0, 0, y_test_pred_now)\n",
    "rmse_test_now = RMSE(y_test_now, y_test_pred_now)\n",
    "\n",
    "y_test_pred_next_1 = model_next_1.predict(X_test_next_1)\n",
    "y_test_pred_next_1 = np.where(X_test_next_1[:,0] == 0, 0, y_test_pred_next_1)\n",
    "rmse_test_next_1 = RMSE(y_test_next_1, y_test_pred_next_1)\n",
    "\n",
    "y_test_pred_next_2 = model_next_2.predict(X_test_next_2)\n",
    "y_test_pred_next_2 = np.where(X_test_next_2[:,0] == 0, 0, y_test_pred_next_2)\n",
    "rmse_test_next_2 = RMSE(y_test_next_2, y_test_pred_next_2)\n",
    "\n",
    "y_test_pred_next_3 = model_next_3.predict(X_test_next_3)\n",
    "y_test_pred_next_3 = np.where(X_test_next_3[:,0] == 0, 0, y_test_pred_next_3)\n",
    "rmse_test_next_3 = RMSE(y_test_next_3, y_test_pred_next_3)\n",
    "\n",
    "y_test_pred_next_4 = model_next_4.predict(X_test_next_4)\n",
    "y_test_pred_next_4 = np.where(X_test_next_4[:,0] == 0, 0, y_test_pred_next_4)\n",
    "rmse_test_next_4 = RMSE(y_test_next_4, y_test_pred_next_4)\n",
    "\n",
    "y_test_pred_next_5 = model_next_5.predict(X_test_next_5)\n",
    "y_test_pred_next_5 = np.where(X_test_next_5[:,0] == 0, 0, y_test_pred_next_5)\n",
    "rmse_test_next_5 = RMSE(y_test_next_5, y_test_pred_next_5)\n",
    "\n",
    "print('RMSE on test now: ', rmse_test_now)\n",
    "print('RMSE on test next 1: ', rmse_test_next_1)\n",
    "print('RMSE on test next 2: ', rmse_test_next_2)\n",
    "print('RMSE on test next 3: ', rmse_test_next_3)\n",
    "print('RMSE on test next 4: ', rmse_test_next_4)\n",
    "print('RMSE on test next 5: ', rmse_test_next_5)"
   ]
  },
  {
   "cell_type": "code",
   "execution_count": null,
   "metadata": {
    "colab": {
     "base_uri": "https://localhost:8080/"
    },
    "id": "QLf18IgEtuLl",
    "outputId": "b00d14a2-8cf0-431b-953b-fe9e3cb42aac",
    "scrolled": true
   },
   "outputs": [],
   "source": [
    "X_test_now[0]"
   ]
  },
  {
   "cell_type": "code",
   "execution_count": null,
   "metadata": {
    "colab": {
     "base_uri": "https://localhost:8080/"
    },
    "id": "dHmM8OaHtRBM",
    "outputId": "eca814a2-7906-4868-aa08-df9bf386d431",
    "scrolled": true
   },
   "outputs": [],
   "source": [
    "predictions = []\n",
    "for i in range(0,len(X_test_now),6):\n",
    "    predictions.append(model_now.predict(X_test_now[i].reshape(1, -1))[0] if X_test_now[i,0]!=0 else 0)\n",
    "    predictions.append(model_next_1.predict(X_test_next_1[i].reshape(1, -1))[0] if X_test_next_1[i,0]!=0 else 0)\n",
    "    predictions.append(model_next_2.predict(X_test_next_2[i].reshape(1, -1))[0] if X_test_next_2[i,0]!=0 else 0)\n",
    "    predictions.append(model_next_3.predict(X_test_next_3[i].reshape(1, -1))[0] if X_test_next_3[i,0]!=0 else 0)\n",
    "    predictions.append(model_next_4.predict(X_test_next_4[i].reshape(1, -1))[0] if X_test_next_4[i,0]!=0 else 0)\n",
    "    predictions.append(model_next_5.predict(X_test_next_5[i].reshape(1, -1))[0] if X_test_next_5[i,0]!=0 else 0)\n",
    "\n",
    "predictions.pop()"
   ]
  },
  {
   "cell_type": "code",
   "execution_count": null,
   "metadata": {
    "colab": {
     "base_uri": "https://localhost:8080/"
    },
    "id": "aBQbzdS4zhFh",
    "outputId": "74a52eaa-7915-4ba4-fcf9-b14a20562673",
    "scrolled": true
   },
   "outputs": [],
   "source": [
    "RMSE(y_test_now,predictions)"
   ]
  },
  {
   "cell_type": "code",
   "execution_count": null,
   "metadata": {
    "colab": {
     "base_uri": "https://localhost:8080/",
     "height": 542
    },
    "id": "XKNJJ3hrup0W",
    "outputId": "a3ec44de-abf1-4167-922b-a13db97f984a",
    "scrolled": true
   },
   "outputs": [],
   "source": [
    "fig = go.Figure()\n",
    "fig.add_trace(go.Scatter(y=y_test_now, mode='lines', name='Actual'))\n",
    "fig.add_trace(go.Scatter(y=predictions, mode='lines', name='6 hours predictions'))\n",
    "\n",
    "# plot with range selector\n",
    "fig.update_layout(\n",
    "    title=\"Test performance\",\n",
    "    xaxis_title=\"Index\",\n",
    "    yaxis_title=\"Value\",\n",
    "    xaxis=dict(\n",
    "        rangeslider=dict(visible=True),  # Show the range slider below the plot\n",
    "        type=\"linear\",  # Type of x-axis\n",
    "        tickmode=\"array\",  # Set x-axis ticks\n",
    "        tickvals=list(range(0, len(y_test), 24)),  # Set weekly x-axis ticks at intervals\n",
    "        ticktext=[f'{i}' for i in range(0, len(y_test), 24)]  # Display x-axis ticks as 0, 168, 336...\n",
    "    )\n",
    ")\n",
    "\n",
    "fig.show()"
   ]
  }
 ],
 "metadata": {
  "colab": {
   "provenance": []
  },
  "kernelspec": {
   "display_name": "Python 3",
   "language": "python",
   "name": "python3"
  },
  "language_info": {
   "codemirror_mode": {
    "name": "ipython",
    "version": 3
   },
   "file_extension": ".py",
   "mimetype": "text/x-python",
   "name": "python",
   "nbconvert_exporter": "python",
   "pygments_lexer": "ipython3",
   "version": "3.8.8"
  }
 },
 "nbformat": 4,
 "nbformat_minor": 1
}
